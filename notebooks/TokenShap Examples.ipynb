{
 "cells": [
  {
   "cell_type": "markdown",
   "id": "131818b5-31ea-4918-8250-93363deab7ec",
   "metadata": {},
   "source": [
    "# TokenSHAP: An In-Depth Usage Guide\n",
    "\n",
    "This notebook provides a structured demonstration of how to use the `TokenSHAP` class to analyze the contribution of different parts of a prompt in generating model responses. We will explore multiple approaches, including:\n",
    "\n",
    "1. **Using OpenAI's API-based model** for various NLP tasks.\n",
    "2. **Using a local Hugging Face model** for offline analysis.\n",
    "3. **Using an Ollama model** to interact with local LLMs.\n",
    "4. **Customizing text splitting methods** to improve interpretability.\n",
    "\n",
    "## Table of Contents\n",
    "\n",
    "1. [Setup](#setup)\n",
    "2. [Using OpenAI API Models](#using-openai-api-models)\n",
    "    - [Example 1: Simple Question](#example-1-simple-question)\n",
    "    - [Example 2: Code Completion](#example-2-code-completion)\n",
    "    - [Example 3: Medical Diagnosis](#example-3-medical-diagnosis)\n",
    "3. [Using a Local Hugging Face Model](#using-a-local-hugging-face-model)\n",
    "4. [Using an Ollama Model](#using-an-ollama-model)\n",
    "5. [Customizing Token Splitting](#customizing-token-splitting)\n",
    "    - [Example with Sentence Splitting](#example-with-sentence-splitting)\n",
    "6. [Conclusion](#conclusion)\n",
    "\n",
    "---\n",
    "\n",
    "## 1. Setup\n",
    "\n",
    "Before running any examples, let's import the required libraries and initialize models."
   ]
  },
  {
   "cell_type": "code",
   "execution_count": 5,
   "id": "ab4e4ae9-9529-4ca0-b713-b697f5ea6bb2",
   "metadata": {},
   "outputs": [],
   "source": [
    "import sys\n",
    "from pathlib import Path\n",
    "import numpy as np\n",
    "\n",
    "parent_dir = Path().resolve().parent\n",
    "if str(parent_dir) not in sys.path:\n",
    "    sys.path.insert(0, str(parent_dir))\n",
    "\n",
    "from token_shap.base import OpenAIEmbeddings, OpenAIModel, LocalModel, HuggingFaceEmbeddings, OllamaModel, TfidfTextVectorizer\n",
    "from token_shap.token_shap import StringSplitter, TokenSHAP"
   ]
  },
  {
   "cell_type": "markdown",
   "id": "12ef27f9-102e-4008-a04f-0d7b061a77f8",
   "metadata": {},
   "source": [
    "## 2. Using OpenAI API Models\n",
    "\n",
    "We start by using OpenAI's API to analyze token contributions in different scenarios."
   ]
  },
  {
   "cell_type": "code",
   "execution_count": 8,
   "id": "504753dd-c22c-4735-81a5-1e8dfecdbc5d",
   "metadata": {},
   "outputs": [],
   "source": [
    "#api_key = (...)\n",
    "\n",
    "openai_model = OpenAIModel(\n",
    "    model_name='gpt-4o',\n",
    "    api_key=api_key\n",
    ")\n",
    "openai_embedding = OpenAIEmbeddings(\n",
    "    model=\"text-embedding-3-small\", \n",
    "    api_key=api_key\n",
    ")\n",
    "splitter = StringSplitter()\n",
    "token_shap_openai = TokenSHAP(model=openai_model, splitter=splitter, vectorizer=openai_embedding)"
   ]
  },
  {
   "cell_type": "markdown",
   "id": "a9152828-d467-4be1-a329-501a55b433d3",
   "metadata": {},
   "source": [
    "### Example 1: Simple Question"
   ]
  },
  {
   "cell_type": "code",
   "execution_count": 7,
   "id": "d634db72-f9a6-43c0-a52c-0a9cb5c16c0d",
   "metadata": {},
   "outputs": [
    {
     "data": {
      "application/vnd.jupyter.widget-view+json": {
       "model_id": "8475c3f26f94463e9d63dba20c4b14a3",
       "version_major": 2,
       "version_minor": 0
      },
      "text/plain": [
       "Processing combinations:   0%|          | 0/30 [00:00<?, ?it/s]"
      ]
     },
     "metadata": {},
     "output_type": "display_data"
    },
    {
     "name": "stdout",
     "output_type": "stream",
     "text": [
      "\u001b[48;2;255;255;250mWhy\u001b[0m \u001b[48;2;255;255;254mis\u001b[0m \u001b[48;2;255;255;255mthe\u001b[0m \u001b[48;2;255;255;0msky\u001b[0m \u001b[48;2;255;255;207mblue?\u001b[0m \n",
      "\u001b[38;2;132;132;255mWhy\u001b[0m \u001b[38;2;74;74;255mis\u001b[0m \u001b[38;2;0;0;255mthe\u001b[0m \u001b[38;2;255;0;0msky\u001b[0m \u001b[38;2;255;217;217mblue?\u001b[0m \n"
     ]
    }
   ],
   "source": [
    "prompt1 = \"Why is the sky blue?\"\n",
    "df_openai = token_shap_openai.analyze(\n",
    "    prompt1, sampling_ratio=1.0, \n",
    "    print_highlight_text=True, \n",
    ")\n",
    "token_shap_openai.print_colored_text()"
   ]
  },
  {
   "cell_type": "markdown",
   "id": "887bf14f-3fdb-4f5c-83d6-321866e749cd",
   "metadata": {},
   "source": [
    "This example was quite long, and that's because we chose a maximum sample rate: `sampling_ratio=1.0`\n",
    "\n",
    "Let's try reducing the sampling rate and see the results:"
   ]
  },
  {
   "cell_type": "code",
   "execution_count": 6,
   "id": "72855e6f-86a8-421f-9eb6-4c8141bbc9fe",
   "metadata": {},
   "outputs": [
    {
     "name": "stdout",
     "output_type": "stream",
     "text": [
      "\n",
      "Running analysis with sampling_ratio=1.0\n",
      "\n"
     ]
    },
    {
     "data": {
      "application/vnd.jupyter.widget-view+json": {
       "model_id": "b893ff79f3d045eeb0e401898d94732c",
       "version_major": 2,
       "version_minor": 0
      },
      "text/plain": [
       "Processing combinations:   0%|          | 0/30 [00:00<?, ?it/s]"
      ]
     },
     "metadata": {},
     "output_type": "display_data"
    },
    {
     "name": "stdout",
     "output_type": "stream",
     "text": [
      "\u001b[48;2;255;255;247mWhy\u001b[0m \u001b[48;2;255;255;255mis\u001b[0m \u001b[48;2;255;255;254mthe\u001b[0m \u001b[48;2;255;255;0msky\u001b[0m \u001b[48;2;255;255;228mblue?\u001b[0m \n",
      "\u001b[38;2;160;160;255mWhy\u001b[0m \u001b[38;2;0;0;255mis\u001b[0m \u001b[38;2;13;13;255mthe\u001b[0m \u001b[38;2;255;0;0msky\u001b[0m \u001b[38;2;239;239;255mblue?\u001b[0m \n",
      "\n",
      "Running analysis with sampling_ratio=0.8\n",
      "\n"
     ]
    },
    {
     "data": {
      "application/vnd.jupyter.widget-view+json": {
       "model_id": "2868b9207d474b7ebe6bd7d7b2afb9f8",
       "version_major": 2,
       "version_minor": 0
      },
      "text/plain": [
       "Processing combinations:   0%|          | 0/24 [00:00<?, ?it/s]"
      ]
     },
     "metadata": {},
     "output_type": "display_data"
    },
    {
     "name": "stdout",
     "output_type": "stream",
     "text": [
      "\u001b[48;2;255;255;239mWhy\u001b[0m \u001b[48;2;255;255;247mis\u001b[0m \u001b[48;2;255;255;255mthe\u001b[0m \u001b[48;2;255;255;0msky\u001b[0m \u001b[48;2;255;255;205mblue?\u001b[0m \n",
      "\u001b[38;2;201;201;255mWhy\u001b[0m \u001b[38;2;157;157;255mis\u001b[0m \u001b[38;2;0;0;255mthe\u001b[0m \u001b[38;2;255;0;0msky\u001b[0m \u001b[38;2;255;214;214mblue?\u001b[0m \n",
      "\n",
      "Running analysis with sampling_ratio=0.6\n",
      "\n"
     ]
    },
    {
     "data": {
      "application/vnd.jupyter.widget-view+json": {
       "model_id": "f82ed8337eed441ba1d7ad53712b0a43",
       "version_major": 2,
       "version_minor": 0
      },
      "text/plain": [
       "Processing combinations:   0%|          | 0/18 [00:00<?, ?it/s]"
      ]
     },
     "metadata": {},
     "output_type": "display_data"
    },
    {
     "name": "stdout",
     "output_type": "stream",
     "text": [
      "\u001b[48;2;255;255;255mWhy\u001b[0m \u001b[48;2;255;255;254mis\u001b[0m \u001b[48;2;255;255;254mthe\u001b[0m \u001b[48;2;255;255;0msky\u001b[0m \u001b[48;2;255;255;213mblue?\u001b[0m \n",
      "\u001b[38;2;0;0;255mWhy\u001b[0m \u001b[38;2;45;45;255mis\u001b[0m \u001b[38;2;65;65;255mthe\u001b[0m \u001b[38;2;255;0;0msky\u001b[0m \u001b[38;2;255;231;231mblue?\u001b[0m \n",
      "\n",
      "Running analysis with sampling_ratio=0.4\n",
      "\n"
     ]
    },
    {
     "data": {
      "application/vnd.jupyter.widget-view+json": {
       "model_id": "b19bcfab98e1491e95866bd0883b8f5e",
       "version_major": 2,
       "version_minor": 0
      },
      "text/plain": [
       "Processing combinations:   0%|          | 0/12 [00:00<?, ?it/s]"
      ]
     },
     "metadata": {},
     "output_type": "display_data"
    },
    {
     "name": "stdout",
     "output_type": "stream",
     "text": [
      "\u001b[48;2;255;255;0mWhy\u001b[0m \u001b[48;2;255;255;254mis\u001b[0m \u001b[48;2;255;255;255mthe\u001b[0m \u001b[48;2;255;255;71msky\u001b[0m \u001b[48;2;255;255;225mblue?\u001b[0m \n",
      "\u001b[38;2;255;0;0mWhy\u001b[0m \u001b[38;2;80;80;255mis\u001b[0m \u001b[38;2;0;0;255mthe\u001b[0m \u001b[38;2;255;53;53msky\u001b[0m \u001b[38;2;249;249;255mblue?\u001b[0m \n",
      "\n",
      "Running analysis with sampling_ratio=0.2\n",
      "\n"
     ]
    },
    {
     "data": {
      "application/vnd.jupyter.widget-view+json": {
       "model_id": "f388c991054d4a4cb749daf66df55cb2",
       "version_major": 2,
       "version_minor": 0
      },
      "text/plain": [
       "Processing combinations:   0%|          | 0/6 [00:00<?, ?it/s]"
      ]
     },
     "metadata": {},
     "output_type": "display_data"
    },
    {
     "name": "stdout",
     "output_type": "stream",
     "text": [
      "\u001b[48;2;255;255;254mWhy\u001b[0m \u001b[48;2;255;255;91mis\u001b[0m \u001b[48;2;255;255;255mthe\u001b[0m \u001b[48;2;255;255;0msky\u001b[0m \u001b[48;2;255;255;14mblue?\u001b[0m \n",
      "\u001b[38;2;64;64;255mWhy\u001b[0m \u001b[38;2;255;70;70mis\u001b[0m \u001b[38;2;0;0;255mthe\u001b[0m \u001b[38;2;255;0;0msky\u001b[0m \u001b[38;2;255;9;9mblue?\u001b[0m \n",
      "\n",
      "Running analysis with sampling_ratio=0.0\n",
      "\n"
     ]
    },
    {
     "data": {
      "application/vnd.jupyter.widget-view+json": {
       "model_id": "8d42f4f5b6ba401ebb56d47461d0b4e1",
       "version_major": 2,
       "version_minor": 0
      },
      "text/plain": [
       "Processing combinations:   0%|          | 0/5 [00:00<?, ?it/s]"
      ]
     },
     "metadata": {},
     "output_type": "display_data"
    },
    {
     "name": "stdout",
     "output_type": "stream",
     "text": [
      "\u001b[48;2;255;255;251mWhy\u001b[0m \u001b[48;2;255;255;254mis\u001b[0m \u001b[48;2;255;255;255mthe\u001b[0m \u001b[48;2;255;255;0msky\u001b[0m \u001b[48;2;255;255;254mblue?\u001b[0m \n",
      "\u001b[38;2;127;127;255mWhy\u001b[0m \u001b[38;2;15;15;255mis\u001b[0m \u001b[38;2;0;0;255mthe\u001b[0m \u001b[38;2;255;0;0msky\u001b[0m \u001b[38;2;0;0;255mblue?\u001b[0m \n"
     ]
    }
   ],
   "source": [
    "import numpy as np\n",
    "\n",
    "for sampling_ratio in np.arange(1.0, -0.1, -0.2):\n",
    "    print(f\"\\nRunning analysis with sampling_ratio={sampling_ratio:.1f}\\n\")\n",
    "    df_openai = token_shap_openai.analyze(prompt1, sampling_ratio=sampling_ratio, print_highlight_text=True)\n",
    "    token_shap_openai.print_colored_text()"
   ]
  },
  {
   "cell_type": "markdown",
   "id": "2460a24b-ef76-4385-b66e-ddae42217f99",
   "metadata": {},
   "source": [
    "We can see that although accuracy varies as the sampling rate decreases, there remains a strong correlation, as demonstrated in the paper, reaching approximately 0.8.\n",
    "\n",
    "We can also choose a maximum number of combinations to run:"
   ]
  },
  {
   "cell_type": "code",
   "execution_count": 3,
   "id": "92938fe6-2578-4b1e-9b07-97d6a8a1dc8d",
   "metadata": {},
   "outputs": [
    {
     "data": {
      "application/vnd.jupyter.widget-view+json": {
       "model_id": "4dc9f9db5e5e42eabcbd7751f520ecaa",
       "version_major": 2,
       "version_minor": 0
      },
      "text/plain": [
       "Processing combinations:   0%|          | 0/10 [00:00<?, ?it/s]"
      ]
     },
     "metadata": {},
     "output_type": "display_data"
    },
    {
     "name": "stdout",
     "output_type": "stream",
     "text": [
      "\u001b[48;2;255;255;251mWhy\u001b[0m \u001b[48;2;255;255;232mis\u001b[0m \u001b[48;2;255;255;255mthe\u001b[0m \u001b[48;2;255;255;34msky\u001b[0m \u001b[48;2;255;255;0mblue?\u001b[0m \n",
      "\u001b[38;2;124;124;255mWhy\u001b[0m \u001b[38;2;226;226;255mis\u001b[0m \u001b[38;2;0;0;255mthe\u001b[0m \u001b[38;2;255;24;24msky\u001b[0m \u001b[38;2;255;0;0mblue?\u001b[0m \n"
     ]
    }
   ],
   "source": [
    "prompt1 = \"Why is the sky blue?\"\n",
    "df_openai = token_shap_openai.analyze(\n",
    "    prompt1, \n",
    "    max_combinations=10, \n",
    "    print_highlight_text=True\n",
    ")\n",
    "token_shap_openai.print_colored_text()"
   ]
  },
  {
   "cell_type": "markdown",
   "id": "cef2f05c-814c-42ef-b957-0e5ed8198c1b",
   "metadata": {},
   "source": [
    "You can see the important tokens highlighted.\n",
    "\n",
    "Now let's take a look at the calculations that the algorithm performed to understand how it reached this conclusion:\n",
    "\n",
    "You can see what the baseline is, that is, the output of the model for the full question:"
   ]
  },
  {
   "cell_type": "code",
   "execution_count": 4,
   "id": "f963dc0e-f406-4ad4-8ed4-f4359993c62a",
   "metadata": {},
   "outputs": [
    {
     "name": "stdout",
     "output_type": "stream",
     "text": [
      "Baseline Text:\n",
      "The sky appears blue primarily due to a phenomenon called Rayleigh scattering. This occurs because molecules and small particles in the Earth's atmosphere scatter sunlight in all directions. Sunlight, or white light, is composed of different colors, each with its own wavelength. Blue light has a shorter wavelength than most other colors and is scattered more efficiently in every direction by the gases and particles in the atmosphere. \n",
      "\n",
      "When you look up at the sky during the day, you see the scattered blue light coming from all directions, making the sky appear blue. Near sunrise and sunset, the sky can take on shades of red and orange because the light must pass through a greater thickness of the Earth's atmosphere, which scatters shorter wavelengths out of the line of sight and allows the longer wavelengths, like red and orange, to dominate.\n"
     ]
    }
   ],
   "source": [
    "print(\"Baseline Text:\")\n",
    "print(token_shap_openai.baseline_text)"
   ]
  },
  {
   "cell_type": "markdown",
   "id": "44b92585-0749-4390-9aa3-aff0d9d234c8",
   "metadata": {},
   "source": [
    "You can also see all the subgroups and responses of the model for them, as well as the similarity index for the full response"
   ]
  },
  {
   "cell_type": "code",
   "execution_count": 5,
   "id": "14bdd2b0-7500-43db-9c8a-e1e88fd278d8",
   "metadata": {},
   "outputs": [
    {
     "data": {
      "text/html": [
       "<div>\n",
       "<style scoped>\n",
       "    .dataframe tbody tr th:only-of-type {\n",
       "        vertical-align: middle;\n",
       "    }\n",
       "\n",
       "    .dataframe tbody tr th {\n",
       "        vertical-align: top;\n",
       "    }\n",
       "\n",
       "    .dataframe thead th {\n",
       "        text-align: right;\n",
       "    }\n",
       "</style>\n",
       "<table border=\"1\" class=\"dataframe\">\n",
       "  <thead>\n",
       "    <tr style=\"text-align: right;\">\n",
       "      <th></th>\n",
       "      <th>Content</th>\n",
       "      <th>Response</th>\n",
       "      <th>Indexes</th>\n",
       "      <th>Similarity</th>\n",
       "    </tr>\n",
       "  </thead>\n",
       "  <tbody>\n",
       "    <tr>\n",
       "      <th>0</th>\n",
       "      <td>is the sky blue?</td>\n",
       "      <td>Yes, the sky appears blue to us most of the ti...</td>\n",
       "      <td>(2, 3, 4, 5)</td>\n",
       "      <td>0.910437</td>\n",
       "    </tr>\n",
       "    <tr>\n",
       "      <th>1</th>\n",
       "      <td>Why the sky blue?</td>\n",
       "      <td>The sky appears blue primarily because of a ph...</td>\n",
       "      <td>(1, 3, 4, 5)</td>\n",
       "      <td>0.945149</td>\n",
       "    </tr>\n",
       "    <tr>\n",
       "      <th>2</th>\n",
       "      <td>Why is sky blue?</td>\n",
       "      <td>The sky appears blue due to a phenomenon calle...</td>\n",
       "      <td>(1, 2, 4, 5)</td>\n",
       "      <td>0.922340</td>\n",
       "    </tr>\n",
       "    <tr>\n",
       "      <th>3</th>\n",
       "      <td>Why is the blue?</td>\n",
       "      <td>Your question seems incomplete, but if you're ...</td>\n",
       "      <td>(1, 2, 3, 5)</td>\n",
       "      <td>0.807091</td>\n",
       "    </tr>\n",
       "    <tr>\n",
       "      <th>4</th>\n",
       "      <td>Why is the sky</td>\n",
       "      <td>The sky appears blue primarily due to a phenom...</td>\n",
       "      <td>(1, 2, 3, 4)</td>\n",
       "      <td>0.938740</td>\n",
       "    </tr>\n",
       "    <tr>\n",
       "      <th>5</th>\n",
       "      <td>is the sky</td>\n",
       "      <td>It looks like your question is incomplete. Cou...</td>\n",
       "      <td>(2, 3, 4)</td>\n",
       "      <td>0.423499</td>\n",
       "    </tr>\n",
       "    <tr>\n",
       "      <th>6</th>\n",
       "      <td>the sky blue?</td>\n",
       "      <td>The sky appears blue primarily because of a ph...</td>\n",
       "      <td>(3, 4, 5)</td>\n",
       "      <td>0.862614</td>\n",
       "    </tr>\n",
       "    <tr>\n",
       "      <th>7</th>\n",
       "      <td>Why sky blue?</td>\n",
       "      <td>The sky appears blue due to a phenomenon calle...</td>\n",
       "      <td>(1, 4, 5)</td>\n",
       "      <td>0.943350</td>\n",
       "    </tr>\n",
       "    <tr>\n",
       "      <th>8</th>\n",
       "      <td>Why sky</td>\n",
       "      <td>Could you please clarify your question about t...</td>\n",
       "      <td>(1, 4)</td>\n",
       "      <td>0.583509</td>\n",
       "    </tr>\n",
       "    <tr>\n",
       "      <th>9</th>\n",
       "      <td>Why the</td>\n",
       "      <td>It seems like your question got cut off. Could...</td>\n",
       "      <td>(1, 3)</td>\n",
       "      <td>0.096218</td>\n",
       "    </tr>\n",
       "  </tbody>\n",
       "</table>\n",
       "</div>"
      ],
      "text/plain": [
       "             Content                                           Response  \\\n",
       "0   is the sky blue?  Yes, the sky appears blue to us most of the ti...   \n",
       "1  Why the sky blue?  The sky appears blue primarily because of a ph...   \n",
       "2   Why is sky blue?  The sky appears blue due to a phenomenon calle...   \n",
       "3   Why is the blue?  Your question seems incomplete, but if you're ...   \n",
       "4     Why is the sky  The sky appears blue primarily due to a phenom...   \n",
       "5         is the sky  It looks like your question is incomplete. Cou...   \n",
       "6      the sky blue?  The sky appears blue primarily because of a ph...   \n",
       "7      Why sky blue?  The sky appears blue due to a phenomenon calle...   \n",
       "8            Why sky  Could you please clarify your question about t...   \n",
       "9            Why the  It seems like your question got cut off. Could...   \n",
       "\n",
       "        Indexes  Similarity  \n",
       "0  (2, 3, 4, 5)    0.910437  \n",
       "1  (1, 3, 4, 5)    0.945149  \n",
       "2  (1, 2, 4, 5)    0.922340  \n",
       "3  (1, 2, 3, 5)    0.807091  \n",
       "4  (1, 2, 3, 4)    0.938740  \n",
       "5     (2, 3, 4)    0.423499  \n",
       "6     (3, 4, 5)    0.862614  \n",
       "7     (1, 4, 5)    0.943350  \n",
       "8        (1, 4)    0.583509  \n",
       "9        (1, 3)    0.096218  "
      ]
     },
     "execution_count": 5,
     "metadata": {},
     "output_type": "execute_result"
    }
   ],
   "source": [
    "df_openai"
   ]
  },
  {
   "cell_type": "markdown",
   "id": "685c75e2-e0eb-4cad-a289-512e464531dd",
   "metadata": {},
   "source": [
    "The class also offers some additional built-in visualizations:"
   ]
  },
  {
   "cell_type": "code",
   "execution_count": 6,
   "id": "7870b07c-9dfc-46fd-9ab0-0bd2199956a6",
   "metadata": {},
   "outputs": [
    {
     "name": "stdout",
     "output_type": "stream",
     "text": [
      "\u001b[38;2;124;124;255mWhy\u001b[0m \u001b[38;2;226;226;255mis\u001b[0m \u001b[38;2;0;0;255mthe\u001b[0m \u001b[38;2;255;24;24msky\u001b[0m \u001b[38;2;255;0;0mblue?\u001b[0m \n"
     ]
    }
   ],
   "source": [
    "token_shap_openai.print_colored_text()"
   ]
  },
  {
   "cell_type": "code",
   "execution_count": 7,
   "id": "9c53d955-9add-4c7a-9aef-6e2ed7262c0c",
   "metadata": {},
   "outputs": [
    {
     "data": {
      "image/png": "[encoded data removed]",
      "text/plain": [
       "<Figure size 1000x200 with 2 Axes>"
      ]
     },
     "metadata": {},
     "output_type": "display_data"
    }
   ],
   "source": [
    "token_shap_openai.plot_colored_text()"
   ]
  },
  {
   "cell_type": "markdown",
   "id": "dca9b8d2-79bb-4afd-a5e1-b23846b6c34d",
   "metadata": {},
   "source": [
    "And in addition, you can see the raw SHAP values ​​for each token:"
   ]
  },
  {
   "cell_type": "code",
   "execution_count": 8,
   "id": "d7155d6d-4ee3-42db-9f11-5ea96e31515c",
   "metadata": {},
   "outputs": [
    {
     "data": {
      "text/plain": [
       "{'Why_1': np.float64(0.0925151738974352),\n",
       " 'is_2': np.float64(0.1681673000403178),\n",
       " 'the_3': np.float64(0.0),\n",
       " 'sky_4': np.float64(0.36064049685648647),\n",
       " 'blue?_5': np.float64(0.3786770292057605)}"
      ]
     },
     "execution_count": 8,
     "metadata": {},
     "output_type": "execute_result"
    }
   ],
   "source": [
    "token_shap_openai.shapley_values"
   ]
  },
  {
   "cell_type": "markdown",
   "id": "fde7465c-0898-4257-9d94-55b88a9e0b82",
   "metadata": {},
   "source": [
    "### Example 2: Code Completion\n",
    "Prompt: 'Complete the following code: def quick_sort(arr):'"
   ]
  },
  {
   "cell_type": "code",
   "execution_count": 9,
   "id": "5d247021-642f-4405-a4f0-4d79409a05a0",
   "metadata": {},
   "outputs": [
    {
     "data": {
      "application/vnd.jupyter.widget-view+json": {
       "model_id": "bfb073dded304959bdceac8342604405",
       "version_major": 2,
       "version_minor": 0
      },
      "text/plain": [
       "Processing combinations:   0%|          | 0/17 [00:00<?, ?it/s]"
      ]
     },
     "metadata": {},
     "output_type": "display_data"
    },
    {
     "name": "stdout",
     "output_type": "stream",
     "text": [
      "\u001b[48;2;255;255;255mComplete\u001b[0m \u001b[48;2;255;255;254mthe\u001b[0m \u001b[48;2;255;255;254mfollowing\u001b[0m \u001b[48;2;255;255;251mcode:\u001b[0m \u001b[48;2;255;255;254mdef\u001b[0m \u001b[48;2;255;255;0mquick_sort(arr):\u001b[0m \n"
     ]
    }
   ],
   "source": [
    "# Define the prompt\n",
    "prompt = \"Complete the following code: def quick_sort(arr):\"\n",
    "\n",
    "# Analyze the prompt\n",
    "df = token_shap_openai.analyze(prompt, sampling_ratio=0.2, print_highlight_text=True)"
   ]
  },
  {
   "cell_type": "markdown",
   "id": "2c00b17e-dde2-4957-a759-61f150dda145",
   "metadata": {},
   "source": [
    "### Example 3: Medical Diagnosis"
   ]
  },
  {
   "cell_type": "markdown",
   "id": "a54904c0-1e3e-4379-85fb-782daba18ac4",
   "metadata": {},
   "source": [
    "Note: For longer prompts, the analysis might take more time due to the increased number of tokens. therefore in this example I chose to use only the important sample and set the sampling_ratio to 0."
   ]
  },
  {
   "cell_type": "code",
   "execution_count": 10,
   "id": "adbf7ff2-400f-4948-adb1-681da8dfe3e7",
   "metadata": {},
   "outputs": [
    {
     "data": {
      "application/vnd.jupyter.widget-view+json": {
       "model_id": "2e16d22587f94a6eb1b54a4e186bfb88",
       "version_major": 2,
       "version_minor": 0
      },
      "text/plain": [
       "Processing combinations:   0%|          | 0/39 [00:00<?, ?it/s]"
      ]
     },
     "metadata": {},
     "output_type": "display_data"
    },
    {
     "name": "stdout",
     "output_type": "stream",
     "text": [
      "\u001b[48;2;255;255;108m45-year-old\u001b[0m \u001b[48;2;255;255;188mmale\u001b[0m \u001b[48;2;255;255;254mwith\u001b[0m \u001b[48;2;255;255;250mfatigue,\u001b[0m \u001b[48;2;255;255;202mfever,\u001b[0m \u001b[48;2;255;255;254mshortness\u001b[0m \u001b[48;2;255;255;249mof\u001b[0m \u001b[48;2;255;255;156mbreath,\u001b[0m \u001b[48;2;255;255;209mand\u001b[0m \u001b[48;2;255;255;253mchest\u001b[0m \u001b[48;2;255;255;246mpain\u001b[0m \u001b[48;2;255;255;197mfor\u001b[0m \u001b[48;2;255;255;0mtwo\u001b[0m \u001b[48;2;255;255;242mweeks.\u001b[0m \u001b[48;2;255;255;186mBlood\u001b[0m \u001b[48;2;255;255;147mtests\u001b[0m \u001b[48;2;255;255;252mshow\u001b[0m \u001b[48;2;255;255;126mhigh\u001b[0m \u001b[48;2;255;255;188mWBC\u001b[0m \u001b[48;2;255;255;255mcount,\u001b[0m \u001b[48;2;255;255;243mand\u001b[0m \u001b[48;2;255;255;147mchest\u001b[0m \u001b[48;2;255;255;252mX-ray\u001b[0m \u001b[48;2;255;255;254mindicates\u001b[0m \u001b[48;2;255;255;254mmild\u001b[0m \u001b[48;2;255;255;253mlung\u001b[0m \u001b[48;2;255;255;92minflammation.\u001b[0m \u001b[48;2;255;255;93mFamily\u001b[0m \u001b[48;2;255;255;254mhistory:\u001b[0m \u001b[48;2;255;255;253mcardiovascular\u001b[0m \u001b[48;2;255;255;254mdisease,\u001b[0m \u001b[48;2;255;255;178masthma.\u001b[0m \u001b[48;2;255;255;244mQuestion:\u001b[0m \u001b[48;2;255;255;171mWhat\u001b[0m \u001b[48;2;255;255;250mis\u001b[0m \u001b[48;2;255;255;254mthe\u001b[0m \u001b[48;2;255;255;156mmost\u001b[0m \u001b[48;2;255;255;239mlikely\u001b[0m \u001b[48;2;255;255;100mdiagnosis?\u001b[0m \n"
     ]
    }
   ],
   "source": [
    "prompt = \"\"\"\n",
    "45-year-old male with fatigue, fever, shortness of breath, and chest pain for two weeks. \n",
    "Blood tests show high WBC count, and chest X-ray indicates mild lung inflammation. \n",
    "Family history: cardiovascular disease, asthma.\n",
    "Question: What is the most likely diagnosis?\n",
    "\"\"\"\n",
    "\n",
    "df = token_shap_openai.analyze(prompt, sampling_ratio=0.0, print_highlight_text=True)"
   ]
  },
  {
   "cell_type": "code",
   "execution_count": 12,
   "id": "844954d2-4da7-4953-be8a-5bafcb1e3ffe",
   "metadata": {},
   "outputs": [
    {
     "name": "stdout",
     "output_type": "stream",
     "text": [
      "\u001b[38;2;255;85;85m45-year-old\u001b[0m \u001b[38;2;255;184;184mmale\u001b[0m \u001b[38;2;52;52;255mwith\u001b[0m \u001b[38;2;136;136;255mfatigue,\u001b[0m \u001b[38;2;255;208;208mfever,\u001b[0m \u001b[38;2;77;77;255mshortness\u001b[0m \u001b[38;2;144;144;255mof\u001b[0m \u001b[38;2;255;139;139mbreath,\u001b[0m \u001b[38;2;255;223;223mand\u001b[0m \u001b[38;2;94;94;255mchest\u001b[0m \u001b[38;2;164;164;255mpain\u001b[0m \u001b[38;2;255;200;200mfor\u001b[0m \u001b[38;2;255;0;0mtwo\u001b[0m \u001b[38;2;184;184;255mweeks.\u001b[0m \u001b[38;2;255;180;180mBlood\u001b[0m \u001b[38;2;255;127;127mtests\u001b[0m \u001b[38;2;115;115;255mshow\u001b[0m \u001b[38;2;255;103;103mhigh\u001b[0m \u001b[38;2;255;184;184mWBC\u001b[0m \u001b[38;2;0;0;255mcount,\u001b[0m \u001b[38;2;180;180;255mand\u001b[0m \u001b[38;2;255;127;127mchest\u001b[0m \u001b[38;2;115;115;255mX-ray\u001b[0m \u001b[38;2;76;76;255mindicates\u001b[0m \u001b[38;2;59;59;255mmild\u001b[0m \u001b[38;2;85;85;255mlung\u001b[0m \u001b[38;2;255;71;71minflammation.\u001b[0m \u001b[38;2;255;72;72mFamily\u001b[0m \u001b[38;2;13;13;255mhistory:\u001b[0m \u001b[38;2;95;95;255mcardiovascular\u001b[0m \u001b[38;2;41;41;255mdisease,\u001b[0m \u001b[38;2;255;168;168masthma.\u001b[0m \u001b[38;2;176;176;255mQuestion:\u001b[0m \u001b[38;2;255;159;159mWhat\u001b[0m \u001b[38;2;134;134;255mis\u001b[0m \u001b[38;2;55;55;255mthe\u001b[0m \u001b[38;2;255;138;138mmost\u001b[0m \u001b[38;2;199;199;255mlikely\u001b[0m \u001b[38;2;255;78;78mdiagnosis?\u001b[0m \n"
     ]
    }
   ],
   "source": [
    "token_shap_openai.print_colored_text()"
   ]
  },
  {
   "cell_type": "markdown",
   "id": "8fe31b48-6081-43fb-a40d-a7fc7cd3ee66",
   "metadata": {},
   "source": [
    "## 3. Using a Local Hugging Face Model"
   ]
  },
  {
   "cell_type": "code",
   "execution_count": 13,
   "id": "9173caf3-eaea-4631-a311-289c5424d7cc",
   "metadata": {},
   "outputs": [
    {
     "data": {
      "application/vnd.jupyter.widget-view+json": {
       "model_id": "b764b8059b66492abdf60be34e8e4cb6",
       "version_major": 2,
       "version_minor": 0
      },
      "text/plain": [
       "VBox(children=(HTML(value='<center> <img\\nsrc=https://huggingface.co/front/assets/huggingface_logo-noborder.sv…"
      ]
     },
     "metadata": {},
     "output_type": "display_data"
    }
   ],
   "source": [
    "from huggingface_hub import login\n",
    "login()"
   ]
  },
  {
   "cell_type": "code",
   "execution_count": 17,
   "id": "26334adb-8f8f-4f5b-b83b-b09eb6840c1d",
   "metadata": {
    "tags": []
   },
   "outputs": [
    {
     "data": {
      "application/vnd.jupyter.widget-view+json": {
       "model_id": "a5c28e2ceb2b4b36aadc571da280fd94",
       "version_major": 2,
       "version_minor": 0
      },
      "text/plain": [
       "Loading checkpoint shards:   0%|          | 0/2 [00:00<?, ?it/s]"
      ]
     },
     "metadata": {},
     "output_type": "display_data"
    }
   ],
   "source": [
    "model_path = \"meta-llama/Llama-3.2-3B-Instruct\"\n",
    "local_model = LocalModel(model_name=model_path)\n",
    "hf_embedding = HuggingFaceEmbeddings()\n",
    "splitter = StringSplitter()\n",
    "token_shap_local = TokenSHAP(model=local_model, splitter=splitter, vectorizer=hf_embedding, debug=True)"
   ]
  },
  {
   "cell_type": "markdown",
   "id": "2891fbb8-180b-47f1-b330-105ef4b96935",
   "metadata": {},
   "source": [
    "Now we can analyze the prompt:"
   ]
  },
  {
   "cell_type": "code",
   "execution_count": 18,
   "id": "3549c65b-8af7-4d5c-8ee5-15c93fbafc2a",
   "metadata": {},
   "outputs": [
    {
     "name": "stdout",
     "output_type": "stream",
     "text": [
      "Number of samples: 6\n",
      "Number of essential combinations: 6\n",
      "Number of additional combinations to sample: 0\n",
      "No additional combinations to sample.\n",
      "Total combinations to process: 6\n"
     ]
    },
    {
     "data": {
      "application/vnd.jupyter.widget-view+json": {
       "model_id": "9398549a8aef45838374449a96a947f9",
       "version_major": 2,
       "version_minor": 0
      },
      "text/plain": [
       "Processing combinations:   0%|          | 0/6 [00:00<?, ?it/s]"
      ]
     },
     "metadata": {},
     "output_type": "display_data"
    },
    {
     "name": "stdout",
     "output_type": "stream",
     "text": [
      "\n",
      "Processing combination 1/6:\n",
      "Combination: ['are', 'the', 'symptoms', 'of', 'COVID-19?']\n",
      "Indexes: (2, 3, 4, 5, 6)\n",
      "Received response for combination 1\n",
      "\n",
      "Processing combination 2/6:\n",
      "Combination: ['What', 'the', 'symptoms', 'of', 'COVID-19?']\n",
      "Indexes: (1, 3, 4, 5, 6)\n",
      "Received response for combination 2\n",
      "\n",
      "Processing combination 3/6:\n",
      "Combination: ['What', 'are', 'symptoms', 'of', 'COVID-19?']\n",
      "Indexes: (1, 2, 4, 5, 6)\n",
      "Received response for combination 3\n",
      "\n",
      "Processing combination 4/6:\n",
      "Combination: ['What', 'are', 'the', 'of', 'COVID-19?']\n",
      "Indexes: (1, 2, 3, 5, 6)\n",
      "Received response for combination 4\n",
      "\n",
      "Processing combination 5/6:\n",
      "Combination: ['What', 'are', 'the', 'symptoms', 'COVID-19?']\n",
      "Indexes: (1, 2, 3, 4, 6)\n",
      "Received response for combination 5\n",
      "\n",
      "Processing combination 6/6:\n",
      "Combination: ['What', 'are', 'the', 'symptoms', 'of']\n",
      "Indexes: (1, 2, 3, 4, 5)\n",
      "Received response for combination 6\n",
      "\u001b[48;2;255;255;252mWhat\u001b[0m \u001b[48;2;255;255;254mare\u001b[0m \u001b[48;2;255;255;255mthe\u001b[0m \u001b[48;2;255;255;253msymptoms\u001b[0m \u001b[48;2;255;255;254mof\u001b[0m \u001b[48;2;255;255;0mCOVID-19?\u001b[0m \n",
      "\u001b[38;2;107;107;255mWhat\u001b[0m \u001b[38;2;30;30;255mare\u001b[0m \u001b[38;2;0;0;255mthe\u001b[0m \u001b[38;2;89;89;255msymptoms\u001b[0m \u001b[38;2;49;49;255mof\u001b[0m \u001b[38;2;255;0;0mCOVID-19?\u001b[0m \n"
     ]
    }
   ],
   "source": [
    "prompt4 = \"What are the symptoms of COVID-19?\"\n",
    "df_local = token_shap_local.analyze(prompt4, sampling_ratio=0.0, print_highlight_text=True)\n",
    "token_shap_local.print_colored_text()"
   ]
  },
  {
   "cell_type": "code",
   "execution_count": 23,
   "id": "8d5d9cfb-2b6e-4760-8933-22da8f95b98c",
   "metadata": {},
   "outputs": [
    {
     "data": {
      "text/html": [
       "<div>\n",
       "<style scoped>\n",
       "    .dataframe tbody tr th:only-of-type {\n",
       "        vertical-align: middle;\n",
       "    }\n",
       "\n",
       "    .dataframe tbody tr th {\n",
       "        vertical-align: top;\n",
       "    }\n",
       "\n",
       "    .dataframe thead th {\n",
       "        text-align: right;\n",
       "    }\n",
       "</style>\n",
       "<table border=\"1\" class=\"dataframe\">\n",
       "  <thead>\n",
       "    <tr style=\"text-align: right;\">\n",
       "      <th></th>\n",
       "      <th>Content</th>\n",
       "      <th>Response</th>\n",
       "      <th>Indexes</th>\n",
       "      <th>Similarity</th>\n",
       "    </tr>\n",
       "  </thead>\n",
       "  <tbody>\n",
       "    <tr>\n",
       "      <th>0</th>\n",
       "      <td>are the symptoms of COVID-19?</td>\n",
       "      <td>The symptoms of COVID-19 can vary from person ...</td>\n",
       "      <td>(2, 3, 4, 5, 6)</td>\n",
       "      <td>0.831912</td>\n",
       "    </tr>\n",
       "    <tr>\n",
       "      <th>1</th>\n",
       "      <td>What the symptoms of COVID-19?</td>\n",
       "      <td>Common symptoms of COVID-19 include:\\nCough\\nS...</td>\n",
       "      <td>(1, 3, 4, 5, 6)</td>\n",
       "      <td>0.940392</td>\n",
       "    </tr>\n",
       "    <tr>\n",
       "      <th>2</th>\n",
       "      <td>What are symptoms of COVID-19?</td>\n",
       "      <td>Common symptoms include:\\nCough\\nFatigue\\nShor...</td>\n",
       "      <td>(1, 2, 4, 5, 6)</td>\n",
       "      <td>0.983881</td>\n",
       "    </tr>\n",
       "    <tr>\n",
       "      <th>3</th>\n",
       "      <td>What are the of COVID-19?</td>\n",
       "      <td>COVID-19 is a respiratory illness caused by th...</td>\n",
       "      <td>(1, 2, 3, 5, 6)</td>\n",
       "      <td>0.857867</td>\n",
       "    </tr>\n",
       "    <tr>\n",
       "      <th>4</th>\n",
       "      <td>What are the symptoms COVID-19?</td>\n",
       "      <td>Common symptoms include:\\nCough, which may be ...</td>\n",
       "      <td>(1, 2, 3, 4, 6)</td>\n",
       "      <td>0.913982</td>\n",
       "    </tr>\n",
       "    <tr>\n",
       "      <th>5</th>\n",
       "      <td>What are the symptoms of</td>\n",
       "      <td>a fungal infection?\\nFungal infections can man...</td>\n",
       "      <td>(1, 2, 3, 4, 5)</td>\n",
       "      <td>0.265348</td>\n",
       "    </tr>\n",
       "  </tbody>\n",
       "</table>\n",
       "</div>"
      ],
      "text/plain": [
       "                           Content  \\\n",
       "0    are the symptoms of COVID-19?   \n",
       "1   What the symptoms of COVID-19?   \n",
       "2   What are symptoms of COVID-19?   \n",
       "3        What are the of COVID-19?   \n",
       "4  What are the symptoms COVID-19?   \n",
       "5         What are the symptoms of   \n",
       "\n",
       "                                            Response          Indexes  \\\n",
       "0  The symptoms of COVID-19 can vary from person ...  (2, 3, 4, 5, 6)   \n",
       "1  Common symptoms of COVID-19 include:\\nCough\\nS...  (1, 3, 4, 5, 6)   \n",
       "2  Common symptoms include:\\nCough\\nFatigue\\nShor...  (1, 2, 4, 5, 6)   \n",
       "3  COVID-19 is a respiratory illness caused by th...  (1, 2, 3, 5, 6)   \n",
       "4  Common symptoms include:\\nCough, which may be ...  (1, 2, 3, 4, 6)   \n",
       "5  a fungal infection?\\nFungal infections can man...  (1, 2, 3, 4, 5)   \n",
       "\n",
       "   Similarity  \n",
       "0    0.831912  \n",
       "1    0.940392  \n",
       "2    0.983881  \n",
       "3    0.857867  \n",
       "4    0.913982  \n",
       "5    0.265348  "
      ]
     },
     "execution_count": 23,
     "metadata": {},
     "output_type": "execute_result"
    }
   ],
   "source": [
    "df_local"
   ]
  },
  {
   "cell_type": "code",
   "execution_count": 24,
   "id": "a7fd7247-6f27-4946-87b1-a88529a468f6",
   "metadata": {},
   "outputs": [
    {
     "name": "stdout",
     "output_type": "stream",
     "text": [
      "\u001b[48;2;255;255;252mWhat\u001b[0m \u001b[48;2;255;255;254mare\u001b[0m \u001b[48;2;255;255;255mthe\u001b[0m \u001b[48;2;255;255;253msymptoms\u001b[0m \u001b[48;2;255;255;254mof\u001b[0m \u001b[48;2;255;255;0mCOVID-19?\u001b[0m \n"
     ]
    }
   ],
   "source": [
    "token_shap_local.highlight_text_background()"
   ]
  },
  {
   "cell_type": "code",
   "execution_count": 25,
   "id": "176eaee5-42bc-4411-8ef1-a130738ffbcc",
   "metadata": {},
   "outputs": [
    {
     "name": "stdout",
     "output_type": "stream",
     "text": [
      "\u001b[38;2;107;107;255mWhat\u001b[0m \u001b[38;2;30;30;255mare\u001b[0m \u001b[38;2;0;0;255mthe\u001b[0m \u001b[38;2;89;89;255msymptoms\u001b[0m \u001b[38;2;49;49;255mof\u001b[0m \u001b[38;2;255;0;0mCOVID-19?\u001b[0m \n"
     ]
    }
   ],
   "source": [
    "token_shap_local.print_colored_text()"
   ]
  },
  {
   "cell_type": "code",
   "execution_count": 26,
   "id": "c3282a62-e56f-4e43-b076-313755728d11",
   "metadata": {},
   "outputs": [
    {
     "data": {
      "image/png": "[encoded data removed]",
      "text/plain": [
       "<Figure size 1000x200 with 2 Axes>"
      ]
     },
     "metadata": {},
     "output_type": "display_data"
    }
   ],
   "source": [
    "token_shap_local.plot_colored_text()"
   ]
  },
  {
   "cell_type": "markdown",
   "id": "eb674de5-f2c6-4790-a3ed-9b338469c5bd",
   "metadata": {},
   "source": [
    "## 4. Using an Ollama Model"
   ]
  },
  {
   "cell_type": "markdown",
   "id": "917ec48e-f088-40d3-9474-ed19c1629120",
   "metadata": {},
   "source": [
    "### Setup for API Model\n",
    "To use an API-based model, you need to use the OllamaModel class.\n",
    "\n",
    "Through Ollama you can communicate with open source models.\n",
    "\n",
    "To continue with this section please make sure you have [Ollama](https://ollama.com/) installed.\n",
    "\n"
   ]
  },
  {
   "cell_type": "code",
   "execution_count": 31,
   "id": "dd3cca89-296c-4431-8c0b-bff5e7feee12",
   "metadata": {},
   "outputs": [],
   "source": [
    "ollama_model = OllamaModel(model_name=\"llama3.2-vision:latest\", api_url=\"http://35.95.163.15:11434\")\n",
    "tfidf_embedding = TfidfTextVectorizer()\n",
    "token_shap_ollama = TokenSHAP(model=ollama_model, splitter=splitter, vectorizer=tfidf_embedding)"
   ]
  },
  {
   "cell_type": "code",
   "execution_count": 32,
   "id": "4e6b0656-2767-45d5-a1de-01dc4d6a9070",
   "metadata": {},
   "outputs": [
    {
     "data": {
      "application/vnd.jupyter.widget-view+json": {
       "model_id": "4a89f25d87f44c9e832f1b9cbfb32a57",
       "version_major": 2,
       "version_minor": 0
      },
      "text/plain": [
       "Processing combinations:   0%|          | 0/34 [00:00<?, ?it/s]"
      ]
     },
     "metadata": {},
     "output_type": "display_data"
    },
    {
     "name": "stdout",
     "output_type": "stream",
     "text": [
      "\u001b[48;2;255;255;254mExplain\u001b[0m \u001b[48;2;255;255;0mquantum\u001b[0m \u001b[48;2;255;255;235mmechanics\u001b[0m \u001b[48;2;255;255;254min\u001b[0m \u001b[48;2;255;255;254msimple\u001b[0m \u001b[48;2;255;255;255mterms.\u001b[0m \n",
      "\u001b[38;2;10;10;255mExplain\u001b[0m \u001b[38;2;255;0;0mquantum\u001b[0m \u001b[38;2;215;215;255mmechanics\u001b[0m \u001b[38;2;79;79;255min\u001b[0m \u001b[38;2;54;54;255msimple\u001b[0m \u001b[38;2;0;0;255mterms.\u001b[0m \n"
     ]
    }
   ],
   "source": [
    "prompt5 = \"Explain quantum mechanics in simple terms.\"\n",
    "df_ollama = token_shap_ollama.analyze(prompt5, sampling_ratio=0.5, print_highlight_text=True)\n",
    "token_shap_ollama.print_colored_text()"
   ]
  },
  {
   "cell_type": "markdown",
   "id": "44aa581b-54c7-460c-ad59-d7027f5c2027",
   "metadata": {},
   "source": [
    "## Customizing the Splitter"
   ]
  },
  {
   "cell_type": "markdown",
   "id": "2cbe7125-f11a-4c07-a43c-e9f652a65557",
   "metadata": {},
   "source": [
    "Sentence-Level Splitting\n",
    "For more advanced analysis, you might want to split the prompt into sentences rather than words. You can customized the splitter for this purpose."
   ]
  },
  {
   "cell_type": "code",
   "execution_count": 33,
   "id": "d1b24aa3-280c-453d-8c80-358d34287fb2",
   "metadata": {},
   "outputs": [
    {
     "ename": "NameError",
     "evalue": "name 'api_key' is not defined",
     "output_type": "error",
     "traceback": [
      "\u001b[0;31m---------------------------------------------------------------------------\u001b[0m",
      "\u001b[0;31mNameError\u001b[0m                                 Traceback (most recent call last)",
      "Cell \u001b[0;32mIn[33], line 1\u001b[0m\n\u001b[0;32m----> 1\u001b[0m openai_model \u001b[38;5;241m=\u001b[39m OpenAIModel(api_key\u001b[38;5;241m=\u001b[39m\u001b[43mapi_key\u001b[49m)\n\u001b[1;32m      2\u001b[0m openai_embedding \u001b[38;5;241m=\u001b[39m OpenAIEmbeddings(api_key\u001b[38;5;241m=\u001b[39mapi_key)\n\u001b[1;32m      3\u001b[0m splitter \u001b[38;5;241m=\u001b[39m StringSplitter(split_pattern\u001b[38;5;241m=\u001b[39m\u001b[38;5;124m'\u001b[39m\u001b[38;5;124m\\\u001b[39m\u001b[38;5;124m.\u001b[39m\u001b[38;5;124m'\u001b[39m)\n",
      "\u001b[0;31mNameError\u001b[0m: name 'api_key' is not defined"
     ]
    }
   ],
   "source": [
    "openai_model = OpenAIModel(api_key=api_key)\n",
    "openai_embedding = OpenAIEmbeddings(api_key=api_key)\n",
    "splitter = StringSplitter(split_pattern='\\.')\n",
    "token_shap_openai = TokenSHAP(model=openai_model, splitter=splitter, vectorizer=openai_embedding)"
   ]
  },
  {
   "cell_type": "code",
   "execution_count": null,
   "id": "7b85e0bf-3652-49ac-8350-fd27b714abd3",
   "metadata": {},
   "outputs": [],
   "source": [
    "prompt = \"\"\"Our company is experiencing a decline in quarterly sales for the first time in five years.\n",
    "Recent market trends indicate increased competition from new startups offering similar products at lower prices.\n",
    "Despite an increase in our online advertising budget, customer engagement on social media platforms has decreased by 15% compared to last quarter.\n",
    "In addition, feedback from customer surveys suggests that many are dissatisfied with the lack of new features in our products.\n",
    "Our largest competitor recently launched a new version of their product with innovative functionalities, which seems to have attracted a significant portion of our customer base.\n",
    "What strategic actions should our company consider to regain market share and improve customer satisfaction?\n",
    "\"\"\""
   ]
  },
  {
   "cell_type": "markdown",
   "id": "6f3fd741-bab4-4e3a-9546-d989a848cc6e",
   "metadata": {},
   "source": [
    "#### Output Explanation:\n",
    "\n",
    "The analysis will consider each sentence as a token, allowing you to understand the importance of each sentence in generating the model's response."
   ]
  },
  {
   "cell_type": "code",
   "execution_count": null,
   "id": "bd2df416-7aa6-4061-95c8-c0ff8041ec45",
   "metadata": {},
   "outputs": [],
   "source": [
    "splitter.split(prompt)"
   ]
  },
  {
   "cell_type": "code",
   "execution_count": null,
   "id": "1ac49757-bfdf-4073-ba24-e233d0e570e8",
   "metadata": {},
   "outputs": [],
   "source": [
    "df_sentence = token_shap_openai.analyze(prompt, sampling_ratio=0.5)"
   ]
  },
  {
   "cell_type": "code",
   "execution_count": null,
   "id": "5cabda96-75d6-4401-b52f-08dfc78d2685",
   "metadata": {},
   "outputs": [],
   "source": [
    "len(df_sentence)"
   ]
  },
  {
   "cell_type": "code",
   "execution_count": null,
   "id": "0182907a-6248-4139-a190-3529fcf9480e",
   "metadata": {},
   "outputs": [],
   "source": [
    "df_sentence.head()"
   ]
  },
  {
   "cell_type": "code",
   "execution_count": null,
   "id": "af3b87b1-0b63-43e5-a5d7-fb373ba135fe",
   "metadata": {},
   "outputs": [],
   "source": [
    "token_shap_openai.plot_colored_text(new_line = True)"
   ]
  },
  {
   "cell_type": "code",
   "execution_count": null,
   "id": "89b51a1b-d487-4be5-a6a7-d1251a53f6b2",
   "metadata": {},
   "outputs": [],
   "source": [
    "token_shap_openai.print_colored_text()"
   ]
  },
  {
   "cell_type": "code",
   "execution_count": null,
   "id": "a7d53c1c-9fb1-482d-8465-19d595cb78c9",
   "metadata": {},
   "outputs": [],
   "source": [
    "token_shap_openai.highlight_text_background()"
   ]
  },
  {
   "cell_type": "markdown",
   "id": "8ddd809a-ae95-4b38-9d52-a994039da35f",
   "metadata": {},
   "source": [
    "## 6. Conclusion\n",
    "\n",
    "- We demonstrated how to analyze model responses with TokenSHAP.\n",
    "- We explored different models: OpenAI API, Local Hugging Face, and Ollama.\n",
    "- We explored different embedding options and tokenization strategies.\n",
    "- We optimized performance using sampling ratios.\n",
    "- We analyzed diverse prompts including scientific, business, and general knowledge questions.\n",
    "- **We showcased sentence-level splitting, which helps in understanding the importance of entire sentences in longer texts.**\n",
    "\n",
    "Experiment with different settings to explore TokenSHAP further!"
   ]
  }
 ],
 "metadata": {
  "kernelspec": {
   "display_name": "TokenSHAP",
   "language": "python",
   "name": "tokenshap"
  },
  "language_info": {
   "codemirror_mode": {
    "name": "ipython",
    "version": 3
   },
   "file_extension": ".py",
   "mimetype": "text/x-python",
   "name": "python",
   "nbconvert_exporter": "python",
   "pygments_lexer": "ipython3",
   "version": "3.10.18"
  }
 },
 "nbformat": 4,
 "nbformat_minor": 5
}
